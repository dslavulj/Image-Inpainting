{
 "nbformat": 4,
 "nbformat_minor": 0,
 "metadata": {
  "colab": {
   "name": "Python challenge.ipynb",
   "provenance": [],
   "collapsed_sections": [],
   "machine_shape": "hm"
  },
  "kernelspec": {
   "name": "python3",
   "display_name": "Python 3"
  },
  "language_info": {
   "name": "python"
  },
  "accelerator": "GPU",
  "gpuClass": "standard"
 },
 "cells": [
  {
   "cell_type": "code",
   "source": [
    "#imports\n",
    "import os\n",
    "import glob\n",
    "\n",
    "import numpy as np\n",
    "import matplotlib.pyplot as plt\n",
    "from random import random, randrange\n",
    "\n",
    "from PIL import Image, ImageStat\n",
    "\n",
    "import torch\n",
    "import torch.nn as nn\n",
    "from torch.utils.data import Dataset, DataLoader\n",
    "import torchvision.transforms as transforms\n",
    "#from torchsummary import summary\n",
    "\n",
    "import dill as pkl\n"
   ],
   "metadata": {
    "id": "mFyevzuM-Ig0"
   },
   "execution_count": 1,
   "outputs": []
  },
  {
   "cell_type": "code",
   "source": [
    "#hyperparameters\n",
    "rng = np.random.default_rng(seed=42)\n",
    "torch.manual_seed(42)\n",
    "\n",
    "device = torch.device(\"cuda:0\" if torch.cuda.is_available() else \"cpu\")\n",
    "\n",
    "batch_size = 32 #32\n",
    "lr = 0.001\n",
    "num_epoch = 100\n",
    "\n",
    "nch = 3\n",
    "nker = 64\n",
    "height = 100\n",
    "width = 100\n",
    "\n",
    "MIN_OFFSET = 0\n",
    "MAX_OFFSET = 8\n",
    "MIN_SPACING = 2\n",
    "MAX_SPACING = 6\n",
    "MIN_KNOWN_PIXELS = 144\n",
    "\n",
    "device"
   ],
   "metadata": {
    "id": "TcIGvnESGl9C",
    "colab": {
     "base_uri": "https://localhost:8080/"
    },
    "outputId": "2cfd03b0-c39d-4d93-cb14-5fbced868701"
   },
   "execution_count": 2,
   "outputs": [
    {
     "data": {
      "text/plain": "device(type='cuda', index=0)"
     },
     "execution_count": 2,
     "metadata": {},
     "output_type": "execute_result"
    }
   ]
  },
  {
   "cell_type": "code",
   "source": [
    "#helper functions\n",
    "\n",
    "def imgtoarrays(image_array: np.ndarray, offset: tuple, spacing: tuple):\n",
    "    if not isinstance(image_array, np.ndarray):\n",
    "        raise TypeError(\"image_array must be a numpy array!\")\n",
    "    \n",
    "    if image_array.ndim != 3 or image_array.shape[2] != 3:\n",
    "        raise NotImplementedError(\"image_array must be a 3D numpy array whose 3rd dimension is of size 3\")\n",
    "    \n",
    "    # Check for conversion to int (would raise ValueError anyway, but we will write a nice error message)\n",
    "    try:\n",
    "        offset = [int(o) for o in offset]\n",
    "        spacing = [int(s) for s in spacing]\n",
    "    except ValueError as e:\n",
    "        raise ValueError(f\"Could not convert entries in offset and spacing ({offset} and {spacing}) to int! Error: {e}\")\n",
    "    \n",
    "    for i, o in enumerate(offset):\n",
    "        if o < MIN_OFFSET or o > MAX_OFFSET:\n",
    "            raise ValueError(f\"Value in offset[{i}] must be in [{MIN_OFFSET}, {MAX_OFFSET}] but is {o}\")\n",
    "    \n",
    "    for i, s in enumerate(spacing):\n",
    "        if s < MIN_SPACING or s > MAX_SPACING:\n",
    "            raise ValueError(f\"Value in spacing[{i}] must be in [{MIN_SPACING}, {MAX_SPACING}] but is {s}\")\n",
    "    \n",
    "    # Change dimensions from (H, W, C) to PyTorch's (C, H, W)\n",
    "    image_array = np.transpose(image_array, (2, 0, 1))\n",
    "    \n",
    "    # Create known_array\n",
    "    known_array = np.zeros_like(image_array)\n",
    "    known_array[:, offset[1]::spacing[1], offset[0]::spacing[0]] = 1\n",
    "    \n",
    "    known_pixels = np.sum(known_array[0], dtype=np.uint32)\n",
    "    if known_pixels < MIN_KNOWN_PIXELS:\n",
    "        raise ValueError(f\"The number of known pixels after removing must be at \"\n",
    "                         f\"least {MIN_KNOWN_PIXELS} but is {known_pixels}\")\n",
    "    \n",
    "    # Create target_array - don't forget to use .copy(), otherwise target_array\n",
    "    # and image_array might point to the same array!\n",
    "    target_array = image_array[known_array == 0].copy()\n",
    "    \n",
    "    # Use image_array as input_array\n",
    "    image_array[known_array == 0] = -1 #0\n",
    "    \n",
    "    return image_array, known_array, target_array\n",
    "\n",
    "\n",
    "def interval_mapping(image, from_min, from_max, to_min, to_max):\n",
    "    # map values from [from_min, from_max] to [to_min, to_max]\n",
    "    # image: input array\n",
    "    from_range = from_max - from_min\n",
    "    to_range = to_max - to_min\n",
    "    scaled = np.array((image - from_min) / float(from_range), dtype=float)\n",
    "    return to_min + (scaled * to_range)\n",
    "\n",
    "class RMSELoss(nn.Module):\n",
    "    def __init__(self, eps=1e-8):\n",
    "        super().__init__()\n",
    "        self.mse = nn.MSELoss()\n",
    "        self.eps = eps\n",
    "        \n",
    "    def forward(self,yhat,y):\n",
    "        loss = torch.sqrt(self.mse(yhat,y) + self.eps)\n",
    "        return loss\n",
    "\n",
    "def save(ckpt_dir, net, optim, epoch):\n",
    "    if not os.path.exists(ckpt_dir):\n",
    "        os.makedirs(ckpt_dir)\n",
    "\n",
    "    torch.save({'net': net.state_dict(), 'optim': optim.state_dict()},\n",
    "               \"%s/model_epoch%d.pth\" % (ckpt_dir, epoch))\n",
    "    \n",
    "def load(ckpt_dir, net, optim):\n",
    "    if not os.path.exists(ckpt_dir):\n",
    "        epoch = 0\n",
    "        return net, optim, epoch\n",
    "\n",
    "    ckpt_lst = os.listdir(ckpt_dir)\n",
    "    ckpt_lst.sort(key=lambda f: int(''.join(filter(str.isdigit, f))))\n",
    "\n",
    "    dict_model = torch.load('%s/%s' % (ckpt_dir, ckpt_lst[-1]))\n",
    "\n",
    "    net.load_state_dict(dict_model['net'])\n",
    "    optim.load_state_dict(dict_model['optim'])\n",
    "    epoch = int(ckpt_lst[-1].split('epoch')[1].split('.pth')[0])\n",
    "\n",
    "    return net, optim, epoch"
   ],
   "metadata": {
    "id": "OuKer3KHEWVQ"
   },
   "execution_count": 3,
   "outputs": []
  },
  {
   "cell_type": "code",
   "source": [
    "#data paths\n",
    "path = './training'\n",
    "\n",
    "ckpt_dir = './ckpt'\n",
    "result_dir_train = './train_img'\n",
    "result_dir_valid = './valid_img'\n",
    "\n",
    "files = glob.glob(os.path.join(path, \"**\", \"*.jpg\"), recursive=True)\n",
    "\n",
    "train_files = files[:(len(files)*9)//10]\n",
    "valid_files = files[(len(files)*9)//10:]"
   ],
   "metadata": {
    "id": "O2fKRImdFQdo"
   },
   "execution_count": 4,
   "outputs": []
  },
  {
   "cell_type": "code",
   "source": [
    "with Image.open(train_files[randrange(0,len(train_files))]) as img:\n",
    "  display(img)"
   ],
   "metadata": {
    "colab": {
     "base_uri": "https://localhost:8080/",
     "height": 145
    },
    "id": "2YMDVm3feLGT",
    "outputId": "cc3a91ed-6af7-4c5f-df52-ff3d7bd00c12"
   },
   "execution_count": 15,
   "outputs": [
    {
     "data": {
      "text/plain": "<PIL.JpegImagePlugin.JpegImageFile image mode=RGB size=175x128>",
      "image/png": "[encoded data removed]"
     },
     "metadata": {},
     "output_type": "display_data"
    }
   ]
  },
  {
   "cell_type": "code",
   "source": [
    "#datasets\n",
    "def collate_fn(batch: list):\n",
    "    input_arrays = [sample[0] for sample in batch]\n",
    "\n",
    "    maxX = np.max([seq.shape[1] for seq in input_arrays])\n",
    "    maxY = np.max([seq.shape[2] for seq in input_arrays])\n",
    "\n",
    "    n_feature_channels = input_arrays[0].shape[0]\n",
    "\n",
    "    #stack input arrays\n",
    "    stacked_input_arrays = torch.zeros(size=(len(input_arrays), n_feature_channels, maxX, maxY), dtype=torch.float32)\n",
    "    for i, sequence in enumerate(input_arrays):\n",
    "        stacked_input_arrays[i, :len(sequence), :] = torch.from_numpy(sequence)\n",
    "\n",
    "    #stack known arrays\n",
    "    known_arrays = [sample[1] for sample in batch]\n",
    "\n",
    "    stacked_known_arrays = torch.zeros(size=(len(known_arrays), n_feature_channels, maxX, maxY), dtype=torch.float32)\n",
    "    for i, sequence in enumerate(known_arrays):\n",
    "        stacked_known_arrays[i, :len(sequence), :] = torch.from_numpy(sequence)\n",
    "\n",
    "    #stack ground truth images\n",
    "    gt_arrays = [sample[2] for sample in batch]\n",
    "\n",
    "    stacked_gt_arrays = torch.zeros(size=(len(gt_arrays), n_feature_channels, maxX, maxY), dtype=torch.float32)\n",
    "    for i, sequence in enumerate(gt_arrays):\n",
    "        stacked_gt_arrays[i, :len(sequence),] = torch.from_numpy(sequence)\n",
    "    \n",
    "    return stacked_input_arrays, stacked_known_arrays, stacked_gt_arrays\n",
    "\n",
    "class ImageDataset(Dataset):\n",
    "    def __init__(self, img_files, transform=None):\n",
    "        self.img_files = img_files\n",
    "        self.transform = transform\n",
    "\n",
    "    def __len__(self):\n",
    "        return len(self.img_files)\n",
    "\n",
    "    def __getitem__(self, idx):\n",
    "        image = Image.open(self.img_files[idx]).convert('RGB')\n",
    "\n",
    "        #augumentations\n",
    "        if self.transform:\n",
    "            image = self.transform(image)\n",
    "\n",
    "        image = np.array(image)\n",
    "\n",
    "        #normalization\n",
    "        image = interval_mapping(image, 0, 255, 0.0, 1.0)\n",
    "\n",
    "\n",
    "        #reverse normalization\n",
    "        #img = interval_mapping(image, 0.0, 1.0, 0, 255).astype('uint8')\n",
    "\n",
    "        offset = (randrange(MIN_OFFSET, MAX_OFFSET), randrange(MIN_OFFSET, MAX_OFFSET))\n",
    "        spacing = (randrange(MIN_SPACING, MAX_SPACING), randrange(MIN_SPACING, MAX_SPACING))\n",
    "\n",
    "        input_array, known_array, _ = imgtoarrays(image.copy(), offset, spacing)\n",
    "\n",
    "        return input_array, known_array, np.transpose(image, (2, 0, 1))\n",
    "\n",
    "\n",
    "#augementations\n",
    "trainTransforms = transforms.Compose([transforms.RandomResizedCrop(size=(height, width)), transforms.RandomHorizontalFlip(), transforms.RandomVerticalFlip()])\n",
    "valTransforms = transforms.Compose([transforms.CenterCrop(size=(height, width))])\n",
    "\n",
    "train_dataset = ImageDataset(train_files, trainTransforms)\n",
    "valid_dataset = ImageDataset(valid_files, valTransforms)\n",
    "\n",
    "\n",
    "train_set = DataLoader(dataset=train_dataset,\n",
    "                      batch_size=batch_size,\n",
    "                      shuffle=True,\n",
    "                      collate_fn=collate_fn,\n",
    "                      pin_memory=True)\n",
    "\n",
    "valid_set = DataLoader(dataset=valid_dataset,\n",
    "                      batch_size=batch_size,\n",
    "                      collate_fn=collate_fn,\n",
    "                      pin_memory=True)\n",
    "\n",
    "num_data_train = len(train_dataset)\n",
    "num_data_val = len(valid_dataset)"
   ],
   "metadata": {
    "id": "xP9bSrsd43nz"
   },
   "execution_count": 17,
   "outputs": []
  },
  {
   "cell_type": "code",
   "source": [
    "num_data_train"
   ],
   "metadata": {
    "colab": {
     "base_uri": "https://localhost:8080/"
    },
    "id": "Efaw8-jEUQN3",
    "outputId": "a5b3fd02-41ae-4d20-8aed-7afa890972f1"
   },
   "execution_count": 18,
   "outputs": [
    {
     "data": {
      "text/plain": "163017"
     },
     "execution_count": 18,
     "metadata": {},
     "output_type": "execute_result"
    }
   ]
  },
  {
   "cell_type": "code",
   "source": [
    "outputs = list(next(iter(train_set)))\n",
    "\n",
    "print(outputs[0].shape)\n",
    "print(outputs[1].shape)\n",
    "print(outputs[2].shape)\n",
    "\n",
    "for i in range(2):\n",
    "  for a in outputs:\n",
    "    img = a.numpy()[i]\n",
    "    img = interval_mapping(img, 0.0, 1.0, 0, 255).astype('uint8')\n",
    "    display(Image.fromarray(img.T, 'RGB'))"
   ],
   "metadata": {
    "id": "tCTyKO0C7MJy"
   },
   "execution_count": 20,
   "outputs": [
    {
     "name": "stdout",
     "output_type": "stream",
     "text": [
      "torch.Size([32, 3, 100, 100])\n",
      "torch.Size([32, 3, 100, 100])\n",
      "torch.Size([32, 3, 100, 100])\n"
     ]
    },
    {
     "data": {
      "text/plain": "<PIL.Image.Image image mode=RGB size=100x100>",
      "image/png": "[encoded data removed]"
     },
     "metadata": {},
     "output_type": "display_data"
    },
    {
     "data": {
      "text/plain": "<PIL.Image.Image image mode=RGB size=100x100>",
      "image/png": "[encoded data removed]"
     },
     "metadata": {},
     "output_type": "display_data"
    },
    {
     "data": {
      "text/plain": "<PIL.Image.Image image mode=RGB size=100x100>",
      "image/png": "[encoded data removed]"
     },
     "metadata": {},
     "output_type": "display_data"
    },
    {
     "data": {
      "text/plain": "<PIL.Image.Image image mode=RGB size=100x100>",
      "image/png": "[encoded data removed]"
     },
     "metadata": {},
     "output_type": "display_data"
    },
    {
     "data": {
      "text/plain": "<PIL.Image.Image image mode=RGB size=100x100>",
      "image/png": "[encoded data removed]"
     },
     "metadata": {},
     "output_type": "display_data"
    },
    {
     "data": {
      "text/plain": "<PIL.Image.Image image mode=RGB size=100x100>",
      "image/png": "[encoded data removed]"
     },
     "metadata": {},
     "output_type": "display_data"
    }
   ]
  },
  {
   "cell_type": "code",
   "source": [
    "#model\n",
    "class CBR_layer(nn.Module):\n",
    "    def __init__(self, in_channels, out_channels, kernel_size=3, stride=1, padding=1, bias=True, norm=\"bnorm\", relu=0.0):\n",
    "        super().__init__()\n",
    "\n",
    "        layers = []\n",
    "        layers += [nn.Conv2d(in_channels=in_channels, out_channels=out_channels,\n",
    "                             kernel_size=kernel_size, stride=stride, padding=padding,\n",
    "                             bias=bias)]\n",
    "\n",
    "        if not norm is None:\n",
    "            if norm == \"bnorm\":\n",
    "                layers += [nn.BatchNorm2d(num_features=out_channels)]\n",
    "            elif norm == \"inorm\":\n",
    "                layers += [nn.InstanceNorm2d(num_features=out_channels)]\n",
    "\n",
    "        if not relu is None and relu >= 0.0:\n",
    "            layers += [nn.ReLU() if relu == 0 else nn.LeakyReLU(relu)]\n",
    "\n",
    "        self.cbr = nn.Sequential(*layers)\n",
    "\n",
    "    def forward(self, x):\n",
    "        return self.cbr(x)\n",
    "\n",
    "\n",
    "class UNet(nn.Module):\n",
    "    def __init__(self, nch=3, nker=64, norm=\"bnorm\"):\n",
    "        super(UNet, self).__init__()\n",
    "\n",
    "        self.enc1_1 = CBR_layer(in_channels=nch, out_channels=1 * nker, norm=norm)\n",
    "        self.enc1_2 = CBR_layer(in_channels=1 * nker, out_channels=1 * nker, norm=norm)\n",
    "\n",
    "        self.pool1 = nn.MaxPool2d(kernel_size=2)\n",
    "\n",
    "        self.enc2_1 = CBR_layer(in_channels=nker, out_channels=2 * nker, norm=norm)\n",
    "        self.enc2_2 = CBR_layer(in_channels=2 * nker, out_channels=2 * nker, norm=norm)\n",
    "\n",
    "        self.pool2 = nn.MaxPool2d(kernel_size=2)\n",
    "\n",
    "        self.enc3_1 = CBR_layer(in_channels=2 * nker, out_channels=4 * nker, norm=norm)\n",
    "        self.enc3_2 = CBR_layer(in_channels=4 * nker, out_channels=4 * nker, norm=norm)\n",
    "\n",
    "        self.pool3 = nn.MaxPool2d(kernel_size=2)\n",
    "\n",
    "        self.enc4_1 = CBR_layer(in_channels=4 * nker, out_channels=8 * nker, norm=norm)\n",
    "        self.enc4_2 = CBR_layer(in_channels=8 * nker, out_channels=8 * nker, norm=norm)\n",
    "\n",
    "        self.pool4 = nn.MaxPool2d(kernel_size=2)\n",
    "\n",
    "        self.enc5_1 = CBR_layer(in_channels=8 * nker, out_channels=16 * nker, norm=norm)\n",
    "\n",
    "\n",
    "        self.dec5_1 = CBR_layer(in_channels=16 * nker, out_channels=8 * nker, norm=norm)\n",
    "\n",
    "        self.unpool4 = nn.ConvTranspose2d(in_channels=8 * nker, out_channels=8 * nker,\n",
    "                                          kernel_size=2, stride=2, padding=0, bias=True)\n",
    "\n",
    "        self.dec4_2 = CBR_layer(in_channels=2 * 8 * nker, out_channels=8 * nker, norm=norm)\n",
    "        self.dec4_1 = CBR_layer(in_channels=8 * nker, out_channels=4 * nker, norm=norm)\n",
    "\n",
    "        self.unpool3 = nn.ConvTranspose2d(in_channels=4 * nker, out_channels=4 * nker,\n",
    "                                          kernel_size=2, stride=2, padding=0, bias=True)\n",
    "\n",
    "        self.dec3_2 = CBR_layer(in_channels=2 * 4 * nker, out_channels=4 * nker, norm=norm)\n",
    "        self.dec3_1 = CBR_layer(in_channels=4 * nker, out_channels=2 * nker, norm=norm)\n",
    "\n",
    "        self.unpool2 = nn.ConvTranspose2d(in_channels=2 * nker, out_channels=2 * nker,\n",
    "                                          kernel_size=2, stride=2, padding=0, bias=True)\n",
    "\n",
    "        self.dec2_2 = CBR_layer(in_channels=2 * 2 * nker, out_channels=2 * nker, norm=norm)\n",
    "        self.dec2_1 = CBR_layer(in_channels=2 * nker, out_channels=1 * nker, norm=norm)\n",
    "\n",
    "        self.unpool1 = nn.ConvTranspose2d(in_channels=1 * nker, out_channels=1 * nker,\n",
    "                                          kernel_size=2, stride=2, padding=0, bias=True)\n",
    "\n",
    "        self.dec1_2 = CBR_layer(in_channels=2 * 1 * nker, out_channels=1 * nker, norm=norm)\n",
    "        self.dec1_1 = CBR_layer(in_channels=1 * nker, out_channels=1 * nker, norm=norm)\n",
    "\n",
    "        self.fc = nn.Conv2d(in_channels=1 * nker, out_channels=nch, kernel_size=1, stride=1, padding=0, bias=True)\n",
    "\n",
    "    def forward(self, x):\n",
    "        enc1_1 = self.enc1_1(x)\n",
    "        enc1_2 = self.enc1_2(enc1_1)\n",
    "        pool1 = self.pool1(enc1_2)\n",
    "\n",
    "        enc2_1 = self.enc2_1(pool1)\n",
    "        enc2_2 = self.enc2_2(enc2_1)\n",
    "        pool2 = self.pool2(enc2_2)\n",
    "\n",
    "        enc3_1 = self.enc3_1(pool2)\n",
    "        enc3_2 = self.enc3_2(enc3_1)\n",
    "        pool3 = self.pool3(enc3_2)\n",
    "\n",
    "        enc4_1 = self.enc4_1(pool3)\n",
    "        enc4_2 = self.enc4_2(enc4_1)\n",
    "        pool4 = self.pool4(enc4_2)\n",
    "\n",
    "        enc5_1 = self.enc5_1(pool4)\n",
    "\n",
    "        dec5_1 = self.dec5_1(enc5_1)\n",
    "\n",
    "        unpool4 = self.unpool4(dec5_1)\n",
    "        cat4 = torch.cat((unpool4, enc4_2), dim=1)\n",
    "        dec4_2 = self.dec4_2(cat4)\n",
    "        dec4_1 = self.dec4_1(dec4_2)\n",
    "\n",
    "        unpool3 = self.unpool3(dec4_1)\n",
    "        unpool3 = nn.Upsample(size=(25, 25), mode='bilinear')(unpool3)\n",
    "        cat3 = torch.cat((unpool3, enc3_2), dim=1)\n",
    "        dec3_2 = self.dec3_2(cat3)\n",
    "        dec3_1 = self.dec3_1(dec3_2)\n",
    "\n",
    "        unpool2 = self.unpool2(dec3_1)\n",
    "        cat2 = torch.cat((unpool2, enc2_2), dim=1)\n",
    "        dec2_2 = self.dec2_2(cat2)\n",
    "        dec2_1 = self.dec2_1(dec2_2)\n",
    "\n",
    "        unpool1 = self.unpool1(dec2_1)\n",
    "        cat1 = torch.cat((unpool1, enc1_2), dim=1)\n",
    "        dec1_2 = self.dec1_2(cat1)\n",
    "        dec1_1 = self.dec1_1(dec1_2)\n",
    "\n",
    "        x = self.fc(dec1_1)#x + self.fc(dec1_1)\n",
    "\n",
    "        x = torch.clip(x, min=0., max=1.)\n",
    "\n",
    "        return x"
   ],
   "metadata": {
    "id": "ZUC2y1F0wGd_"
   },
   "execution_count": 38,
   "outputs": []
  },
  {
   "cell_type": "code",
   "source": [
    "net = UNet(nch=nch, nker=nker).to(device)\n",
    "\n",
    "fn_loss = nn.MSELoss().to(device)\n",
    "valid_loss = RMSELoss().to(device)\n",
    "\n",
    "\n",
    "optim = torch.optim.Adam(net.parameters(), lr=lr)\n",
    "scheduler = torch.optim.lr_scheduler.ExponentialLR(optim, gamma=0.9)\n",
    "st_epoch = 0\n",
    "\n",
    "\n",
    "net, optim, st_epoch = load(ckpt_dir=ckpt_dir, net=net, optim=optim)\n",
    "\n",
    "#summary(net, (3, 100, 100))\n",
    "st_epoch"
   ],
   "metadata": {
    "colab": {
     "base_uri": "https://localhost:8080/"
    },
    "id": "vjM7Tw9pkZmr",
    "outputId": "530b73fc-90ae-4416-b70a-bdf10c923dfc"
   },
   "execution_count": 47,
   "outputs": [
    {
     "data": {
      "text/plain": "23"
     },
     "execution_count": 47,
     "metadata": {},
     "output_type": "execute_result"
    }
   ]
  },
  {
   "cell_type": "code",
   "execution_count": 23,
   "outputs": [],
   "source": [
    "optim.param_groups[0]['lr'] = 0.0001"
   ],
   "metadata": {
    "collapsed": false,
    "pycharm": {
     "name": "#%%\n"
    }
   }
  },
  {
   "cell_type": "code",
   "source": [
    "#training MSE image, valid RMSE pixel\n",
    "\n",
    "num_batch_train = np.ceil(num_data_train / batch_size)\n",
    "num_batch_val = np.ceil(num_data_val / batch_size)\n",
    "\n",
    "cmap = None\n",
    "\n",
    "for epoch in range(st_epoch + 1, num_epoch + 1):\n",
    "    net.train()\n",
    "    loss_mse = []\n",
    "\n",
    "    for batch, data in enumerate(train_set, 1):\n",
    "        # forward pass\n",
    "        input = data[0].to(device)\n",
    "        label = data[2].to(device)\n",
    "        mask = data[1]\n",
    "\n",
    "        output = net(input)\n",
    "\n",
    "        # backward pass\n",
    "        optim.zero_grad()\n",
    "\n",
    "        # inv_mask = torch.logical_not(mask).to(device)\n",
    "        # loss = fn_loss((output*inv_mask)*255, (label*inv_mask)*255)\n",
    "        loss = fn_loss(output, label)\n",
    "        loss.backward()\n",
    "\n",
    "        optim.step()\n",
    "\n",
    "        loss_mse += [loss.item()]\n",
    "\n",
    "        if batch % 20 == 0 or batch == 1:\n",
    "            print(\"TRAIN: EPOCH %04d / %04d | BATCH %04d / %04d | MSE LOSS %.4f / BATCH LOSS %.4f\" % (epoch, num_epoch, batch, num_batch_train, np.mean(loss_mse), loss_mse[-1]))\n",
    "\n",
    "        if batch % 100 == 0:\n",
    "          label = interval_mapping(label.cpu().detach().numpy()[0], 0.0, 1.0, 0, 255).astype('uint8')\n",
    "          input = interval_mapping(input.cpu().detach().numpy()[0], 0.0, 1.0, 0, 255).astype('uint8')\n",
    "          output = interval_mapping(output.cpu().detach().numpy()[0], 0.0, 1.0, 0, 255).astype('uint8')\n",
    "\n",
    "          id = num_batch_train * (epoch - 1) + batch\n",
    "\n",
    "          plt.imsave(os.path.join(result_dir_train, '%04d_label.png' % id), label.T.squeeze(), cmap=cmap)\n",
    "          plt.imsave(os.path.join(result_dir_train, '%04d_input.png' % id), input.T.squeeze(), cmap=cmap)\n",
    "          plt.imsave(os.path.join(result_dir_train, '%04d_output.png' % id), output.T.squeeze(), cmap=cmap)\n",
    "\n",
    "        if batch % 500 == 0:\n",
    "            save(ckpt_dir=ckpt_dir, net=net, optim=optim, epoch=epoch)\n",
    "    scheduler.step()\n",
    "    save(ckpt_dir=ckpt_dir, net=net, optim=optim, epoch=epoch)\n",
    "\n",
    "\n",
    "    with torch.no_grad():\n",
    "        net.eval()\n",
    "        loss_mse = []\n",
    "\n",
    "        for batch, data in enumerate(valid_set, 1):\n",
    "            # forward pass\n",
    "            input = data[0].to(device)\n",
    "            label = data[2].to(device)\n",
    "            mask = data[1]\n",
    "\n",
    "            output = net(input)\n",
    "\n",
    "            inv_mask = torch.logical_not(mask).to(device)\n",
    "            loss = valid_loss(output*inv_mask, label*inv_mask)*255\n",
    "\n",
    "            loss_mse += [loss.item()]\n",
    "\n",
    "            if batch % 20 == 0:\n",
    "                print(\"VALID: EPOCH %04d / %04d | BATCH %04d / %04d | RMSE LOSS %.4f / BATCH LOSS %.4f\" % (epoch, num_epoch, batch, num_batch_val, np.mean(loss_mse), loss_mse[-1]))\n",
    "\n",
    "            if batch % 100 == 0:\n",
    "\n",
    "              label = interval_mapping(label.cpu().detach().numpy()[0], 0.0, 1.0, 0, 255).astype('uint8')\n",
    "              input = interval_mapping(input.cpu().detach().numpy()[0], 0.0, 1.0, 0, 255).astype('uint8')\n",
    "              output = interval_mapping(output.cpu().detach().numpy()[0], 0.0, 1.0, 0, 255).astype('uint8')\n",
    "\n",
    "              id = num_batch_train * (epoch - 1) + batch\n",
    "\n",
    "              plt.imsave(os.path.join(result_dir_valid, '%04d_label.png' % id), label.T.squeeze(), cmap=cmap)\n",
    "              plt.imsave(os.path.join(result_dir_valid, '%04d_input.png' % id), input.T.squeeze(), cmap=cmap)\n",
    "              plt.imsave(os.path.join(result_dir_valid, '%04d_output.png' % id), output.T.squeeze(), cmap=cmap)"
   ],
   "metadata": {
    "colab": {
     "base_uri": "https://localhost:8080/"
    },
    "id": "C-htU0gFTRkR",
    "outputId": "192e093f-b596-4b80-fd49-5c7cc3e4871f",
    "pycharm": {
     "name": "#%%\n",
     "is_executing": true
    }
   },
   "execution_count": null,
   "outputs": []
  },
  {
   "cell_type": "code",
   "execution_count": null,
   "outputs": [],
   "source": [
    "test_path = './test/inputs.pkl'\n",
    "\n",
    "with open(test_path,\"rb\") as fh:\n",
    "    test_data = pkl.load(fh)\n",
    "\n",
    "n_samples = len(test_data[\"input_arrays\"])\n",
    "\n",
    "predictions = []\n",
    "pixpred = []\n",
    "with torch.no_grad():\n",
    "    net.eval()\n",
    "    for sample_i in range(n_samples):\n",
    "        input_array = test_data[\"input_arrays\"][sample_i].astype(np.float32)\n",
    "        input_array = interval_mapping(input_array, 0, 255, 0.0, 1.0)\n",
    "\n",
    "        known_array = test_data[\"known_arrays\"][sample_i].astype(np.float32)\n",
    "\n",
    "        input_array[known_array == 0] = -1\n",
    "\n",
    "        inputs = input_array[None]\n",
    "        inputs = torch.tensor(inputs, dtype=torch.float32).to(device)\n",
    "        prediction = net(inputs)\n",
    "        prediction = interval_mapping(prediction.cpu().detach().numpy(), 0.0, 1.0, 0, 255).astype('uint8')\n",
    "        prediction = np.clip(prediction.squeeze(), a_min=0, a_max=255)\n",
    "        pix = np.asarray(prediction[known_array == 0].copy(), dtype=np.uint8)\n",
    "        prediction = np.asarray(prediction, dtype=np.uint8)\n",
    "\n",
    "        predictions.append(prediction)\n",
    "        pixpred.append(pix)"
   ],
   "metadata": {
    "collapsed": false,
    "pycharm": {
     "name": "#%%\n"
    }
   }
  },
  {
   "cell_type": "code",
   "execution_count": 11,
   "outputs": [
    {
     "data": {
      "text/plain": "<PIL.Image.Image image mode=RGB size=100x100>",
      "image/png": "[encoded data removed]"
     },
     "metadata": {},
     "output_type": "display_data"
    },
    {
     "data": {
      "text/plain": "<PIL.Image.Image image mode=RGB size=100x100>",
      "image/png": "[encoded data removed]"
     },
     "metadata": {},
     "output_type": "display_data"
    },
    {
     "data": {
      "text/plain": "8663"
     },
     "execution_count": 11,
     "metadata": {},
     "output_type": "execute_result"
    }
   ],
   "source": [
    "display(Image.fromarray(test_data[\"input_arrays\"][0].squeeze().T, 'RGB'))\n",
    "display(Image.fromarray(predictions[0].T, 'RGB'))\n",
    "n_samples"
   ],
   "metadata": {
    "collapsed": false,
    "pycharm": {
     "name": "#%%\n"
    }
   }
  },
  {
   "cell_type": "code",
   "execution_count": 12,
   "outputs": [],
   "source": [
    "with open('./preds.pkl', 'wb') as handle:\n",
    "    pkl.dump(pixpred, handle, protocol=pkl.HIGHEST_PROTOCOL)"
   ],
   "metadata": {
    "collapsed": false,
    "pycharm": {
     "name": "#%%\n"
    }
   }
  }
 ]
}